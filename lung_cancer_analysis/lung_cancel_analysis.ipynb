{
 "cells": [
  {
   "cell_type": "markdown",
   "id": "2e2752d5",
   "metadata": {},
   "source": [
    "Import and create the sparksession"
   ]
  },
  {
   "cell_type": "code",
   "execution_count": 26,
   "id": "6744a225",
   "metadata": {},
   "outputs": [],
   "source": [
    "from pyspark.sql import SparkSession\n",
    "from pyspark.sql.functions import col, to_date, when, datediff, avg, count, round\n",
    "from pyspark.sql.types import DoubleType\n",
    "spark = SparkSession.builder.appName(\"Lung Cancer Data Analysis\").getOrCreate()"
   ]
  },
  {
   "cell_type": "markdown",
   "id": "22b9fdff",
   "metadata": {},
   "source": [
    "Loading the csv file from Dataset folder"
   ]
  },
  {
   "cell_type": "code",
   "execution_count": 5,
   "id": "d1ad49d9",
   "metadata": {},
   "outputs": [
    {
     "name": "stderr",
     "output_type": "stream",
     "text": [
      "[Stage 7:====>                                                    (1 + 11) / 12]\r"
     ]
    },
    {
     "name": "stdout",
     "output_type": "stream",
     "text": [
      "root\n",
      " |-- id: integer (nullable = true)\n",
      " |-- age: double (nullable = true)\n",
      " |-- gender: string (nullable = true)\n",
      " |-- country: string (nullable = true)\n",
      " |-- diagnosis_date: date (nullable = true)\n",
      " |-- cancer_stage: string (nullable = true)\n",
      " |-- family_history: string (nullable = true)\n",
      " |-- smoking_status: string (nullable = true)\n",
      " |-- bmi: double (nullable = true)\n",
      " |-- cholesterol_level: integer (nullable = true)\n",
      " |-- hypertension: integer (nullable = true)\n",
      " |-- asthma: integer (nullable = true)\n",
      " |-- cirrhosis: integer (nullable = true)\n",
      " |-- other_cancer: integer (nullable = true)\n",
      " |-- treatment_type: string (nullable = true)\n",
      " |-- end_treatment_date: date (nullable = true)\n",
      " |-- survived: integer (nullable = true)\n",
      "\n"
     ]
    },
    {
     "name": "stderr",
     "output_type": "stream",
     "text": [
      "                                                                                \r"
     ]
    }
   ],
   "source": [
    "file_path = \"./datasets/lung_cancer_dataset.csv\"\n",
    "df = spark.read.csv(file_path, header=True, inferSchema=True)\n",
    "df.printSchema()\n",
    "# df.show(5)"
   ]
  },
  {
   "cell_type": "markdown",
   "id": "7538e837",
   "metadata": {},
   "source": [
    "#### Task 1\n",
    "1. Remove duplicate rows\n",
    "2. Convert numeric columns to correct types\n",
    "3. Parse date columns\n",
    "4. Convert all yes/no fields into binary 1/0"
   ]
  },
  {
   "cell_type": "code",
   "execution_count": 17,
   "id": "402166ed",
   "metadata": {},
   "outputs": [
    {
     "name": "stderr",
     "output_type": "stream",
     "text": [
      "[Stage 170:==================================================>    (11 + 1) / 12]\r"
     ]
    },
    {
     "name": "stdout",
     "output_type": "stream",
     "text": [
      "+---+----+------+----------+--------------+------------+--------------+--------------+----+-----------------+------------+------+---------+------------+--------------+------------------+--------+\n",
      "| id| age|gender|   country|diagnosis_date|cancer_stage|family_history|smoking_status| BMI|cholesterol_level|hypertension|asthma|cirrhosis|other_cancer|treatment_type|end_treatment_date|survived|\n",
      "+---+----+------+----------+--------------+------------+--------------+--------------+----+-----------------+------------+------+---------+------------+--------------+------------------+--------+\n",
      "|195|49.0|Female|    Latvia|    2018-01-25|   Stage III|             0| Former Smoker|38.8|              261|           1|     1|        0|           0|  Chemotherapy|        2019-12-31|       0|\n",
      "|255|50.0|Female|Luxembourg|    2024-01-08|    Stage II|             0|Current Smoker|36.7|              254|           1|     0|        0|           0|     Radiation|        2025-05-30|       0|\n",
      "|344|52.0|  Male|   Hungary|    2019-08-15|    Stage IV|             0|  Never Smoked|26.4|              178|           1|     0|        0|           0|     Radiation|        2021-02-10|       0|\n",
      "|367|67.0|  Male|Luxembourg|    2016-12-07|    Stage II|             0|Current Smoker|29.8|              234|           1|     1|        1|           0|      Combined|        2018-09-12|       0|\n",
      "|578|63.0|Female|    Cyprus|    2016-09-29|     Stage I|             0|Passive Smoker|24.2|              235|           0|     1|        0|           0|      Combined|        2017-12-03|       0|\n",
      "+---+----+------+----------+--------------+------------+--------------+--------------+----+-----------------+------------+------+---------+------------+--------------+------------------+--------+\n",
      "only showing top 5 rows\n"
     ]
    },
    {
     "name": "stderr",
     "output_type": "stream",
     "text": [
      "                                                                                \r"
     ]
    }
   ],
   "source": [
    "\n",
    "def clean_lung_cancer_data(df):\n",
    "    df = df.dropDuplicates()\n",
    "    \n",
    "    date_columns = [col_name for col_name in df.columns if 'date' in col_name.lower()]\n",
    "    for date_col in date_columns:\n",
    "        df = df.withColumn(date_col, to_date(col(date_col), 'yyyy-MM-dd'))\n",
    "    \n",
    "    numeric_columns = ['age', 'BMI']\n",
    "    for num_col in numeric_columns:\n",
    "        df = df.withColumn(num_col, col(num_col).cast(DoubleType()))\n",
    "\n",
    "    yes_no_cols = []\n",
    "    for c in df.columns:\n",
    "        unique_vals = df.select(c).distinct().rdd.flatMap(lambda x: x).collect()\n",
    "        unique_vals = [str(v).lower() for v in unique_vals if v is not None]\n",
    "        if set(unique_vals) <= {'yes', 'no'}:\n",
    "            yes_no_cols.append(c)\n",
    "\n",
    "    for col_name in yes_no_cols:\n",
    "        df = df.withColumn(col_name, when(col(col_name) == 'yes', 1).otherwise(0))\n",
    "    \n",
    "    return df\n",
    "\n",
    "df = clean_lung_cancer_data(df)\n",
    "df.show(5)"
   ]
  },
  {
   "cell_type": "markdown",
   "id": "160378fb",
   "metadata": {},
   "source": [
    "#### Task 2\n",
    "1. Add a new column treatment_duration_days:\n",
    "2. This should be the number of days between the diagnosis date and the treatment end date.\n",
    "3. Return the average treatment duration for each treatment type."
   ]
  },
  {
   "cell_type": "markdown",
   "id": "4fac7c73",
   "metadata": {},
   "source": []
  },
  {
   "cell_type": "code",
   "execution_count": 23,
   "id": "5ebb3256",
   "metadata": {},
   "outputs": [
    {
     "name": "stderr",
     "output_type": "stream",
     "text": [
      "                                                                                \r"
     ]
    },
    {
     "name": "stdout",
     "output_type": "stream",
     "text": [
      "+--------------+--------------------------+\n",
      "|treatment_type|average_treatment_duration|\n",
      "+--------------+--------------------------+\n",
      "|     Radiation|        458.40320462900917|\n",
      "|  Chemotherapy|        458.39540091909953|\n",
      "|      Combined|         457.8152186120058|\n",
      "|       Surgery|        457.73744630723684|\n",
      "+--------------+--------------------------+\n",
      "\n"
     ]
    },
    {
     "name": "stderr",
     "output_type": "stream",
     "text": [
      "[Stage 200:=====================================>                  (8 + 4) / 12]\r"
     ]
    },
    {
     "name": "stdout",
     "output_type": "stream",
     "text": [
      "+---+----+------+----------+--------------+------------+--------------+--------------+----+-----------------+------------+------+---------+------------+--------------+------------------+--------+-----------------------+\n",
      "| id| age|gender|   country|diagnosis_date|cancer_stage|family_history|smoking_status| BMI|cholesterol_level|hypertension|asthma|cirrhosis|other_cancer|treatment_type|end_treatment_date|survived|treatment_duration_days|\n",
      "+---+----+------+----------+--------------+------------+--------------+--------------+----+-----------------+------------+------+---------+------------+--------------+------------------+--------+-----------------------+\n",
      "|195|49.0|Female|    Latvia|    2018-01-25|   Stage III|             0| Former Smoker|38.8|              261|           1|     1|        0|           0|  Chemotherapy|        2019-12-31|       0|                    705|\n",
      "|255|50.0|Female|Luxembourg|    2024-01-08|    Stage II|             0|Current Smoker|36.7|              254|           1|     0|        0|           0|     Radiation|        2025-05-30|       0|                    508|\n",
      "|344|52.0|  Male|   Hungary|    2019-08-15|    Stage IV|             0|  Never Smoked|26.4|              178|           1|     0|        0|           0|     Radiation|        2021-02-10|       0|                    545|\n",
      "|367|67.0|  Male|Luxembourg|    2016-12-07|    Stage II|             0|Current Smoker|29.8|              234|           1|     1|        1|           0|      Combined|        2018-09-12|       0|                    644|\n",
      "|578|63.0|Female|    Cyprus|    2016-09-29|     Stage I|             0|Passive Smoker|24.2|              235|           0|     1|        0|           0|      Combined|        2017-12-03|       0|                    430|\n",
      "+---+----+------+----------+--------------+------------+--------------+--------------+----+-----------------+------------+------+---------+------------+--------------+------------------+--------+-----------------------+\n",
      "only showing top 5 rows\n"
     ]
    },
    {
     "name": "stderr",
     "output_type": "stream",
     "text": [
      "                                                                                \r"
     ]
    }
   ],
   "source": [
    "df = df.withColumn(\n",
    "        \"treatment_duration_days\",\n",
    "        datediff(col(\"end_treatment_date\"), col(\"diagnosis_date\"))\n",
    "    )\n",
    "def analyze_treatment_duration(df):\n",
    "    result = df.groupBy(\"treatment_type\").agg(\n",
    "        avg(\"treatment_duration_days\").alias(\"average_treatment_duration\")\n",
    "    )\n",
    "    \n",
    "    return result\n",
    "\n",
    "analyze_treatment_duration(df).show(5)\n",
    "df.show(5)"
   ]
  },
  {
   "cell_type": "markdown",
   "id": "fecec959",
   "metadata": {},
   "source": [
    "#### Task 3\n",
    "1. Groups patients by smoking_status\n",
    "2. Calculates the average survival rate for each group\n",
    "3. Returns the group with the highest survival rate"
   ]
  },
  {
   "cell_type": "code",
   "execution_count": 22,
   "id": "77c2c918",
   "metadata": {},
   "outputs": [
    {
     "name": "stderr",
     "output_type": "stream",
     "text": [
      "[Stage 190:==================================>                     (8 + 5) / 13]\r"
     ]
    },
    {
     "name": "stdout",
     "output_type": "stream",
     "text": [
      "+--------------+-------------------+\n",
      "|smoking_status|      survival_rate|\n",
      "+--------------+-------------------+\n",
      "|  Never Smoked|0.22091034383684025|\n",
      "+--------------+-------------------+\n",
      "\n"
     ]
    },
    {
     "name": "stderr",
     "output_type": "stream",
     "text": [
      "                                                                                \r"
     ]
    }
   ],
   "source": [
    "def get_highest_survival_by_smoking(df):\n",
    "    result = df.groupBy(\"smoking_status\").agg(\n",
    "        avg(\"survived\").alias(\"survival_rate\")\n",
    "    )\n",
    "    top_group = result.orderBy(col(\"survival_rate\").desc()).limit(1)\n",
    "    \n",
    "    return top_group\n",
    "\n",
    "get_highest_survival_by_smoking(df).show(5)"
   ]
  },
  {
   "cell_type": "markdown",
   "id": "bfb83993",
   "metadata": {},
   "source": [
    "#### Task 4\n"
   ]
  },
  {
   "cell_type": "code",
   "execution_count": 27,
   "id": "e768d12f",
   "metadata": {},
   "outputs": [
    {
     "name": "stderr",
     "output_type": "stream",
     "text": [
      "                                                                                \r"
     ]
    },
    {
     "name": "stdout",
     "output_type": "stream",
     "text": [
      "+--------------+--------------+--------------+-------------------+\n",
      "|       country|total_patients|stage_iv_count|stage_iv_percentage|\n",
      "+--------------+--------------+--------------+-------------------+\n",
      "|        Greece|         33052|          8429|               25.5|\n",
      "|       Croatia|         33138|          8426|              25.43|\n",
      "|Czech Republic|         32885|          8317|              25.29|\n",
      "+--------------+--------------+--------------+-------------------+\n",
      "\n"
     ]
    }
   ],
   "source": [
    "\n",
    "def top_3_stage_iv_countries(df):\n",
    "    total = df.groupBy(\"country\").agg(count(\"*\").alias(\"total_patients\"))\n",
    "    \n",
    "    stage_iv = df.filter(col(\"cancer_stage\") == \"Stage IV\") \\\n",
    "                 .groupBy(\"country\") \\\n",
    "                 .agg(count(\"*\").alias(\"stage_iv_count\"))\n",
    "    \n",
    "    joined = total.join(stage_iv, on=\"country\", how=\"left\") \\\n",
    "                  .fillna(0, subset=[\"stage_iv_count\"]) \\\n",
    "                  .withColumn(\"stage_iv_percentage\", round((col(\"stage_iv_count\") / col(\"total_patients\")) * 100, 2))\n",
    "    \n",
    "    return joined.orderBy(col(\"stage_iv_percentage\").desc()).limit(3)\n",
    "\n",
    "top_3_stage_iv_countries(df).show(5)\n",
    "\n"
   ]
  },
  {
   "cell_type": "markdown",
   "id": "aff36338",
   "metadata": {},
   "source": [
    "#### Task 5\n"
   ]
  },
  {
   "cell_type": "code",
   "execution_count": null,
   "id": "b1cfbb8d",
   "metadata": {},
   "outputs": [
    {
     "name": "stderr",
     "output_type": "stream",
     "text": [
      "                                                                                \r"
     ]
    },
    {
     "name": "stdout",
     "output_type": "stream",
     "text": [
      "(None, 0)\n"
     ]
    },
    {
     "name": "stderr",
     "output_type": "stream",
     "text": [
      "                                                                                \r"
     ]
    }
   ],
   "source": [
    "def analyze_high_risk_survivors(df):\n",
    "  filtered = df.filter(\n",
    "      (col(\"gender\") == \"male\") &\n",
    "      (col(\"cancer_stage\").isin(\"Stage III\", \"Stage IV\")) &\n",
    "      (col(\"family_history\") == 1) &\n",
    "      (col(\"smoking_status\") == \"current\") &\n",
    "      (col(\"bmi\") > 30) &\n",
    "      (col(\"survived\") == 1)\n",
    "  )\n",
    "  \n",
    "  avg_age = filtered.agg(avg(\"age\").alias(\"average_age\")).collect()[0][\"average_age\"]\n",
    "  \n",
    "  hypertension_count = filtered.filter(col(\"hypertension\") == 1).count()\n",
    "  total_count = filtered.count()\n",
    "  \n",
    "  hypertension_percentage = (hypertension_count / total_count) * 100 if total_count > 0 else 0\n",
    "  \n",
    "  return avg_age, hypertension_percentage"
   ]
  }
 ],
 "metadata": {
  "kernelspec": {
   "display_name": "pyspark",
   "language": "python",
   "name": "python3"
  },
  "language_info": {
   "codemirror_mode": {
    "name": "ipython",
    "version": 3
   },
   "file_extension": ".py",
   "mimetype": "text/x-python",
   "name": "python",
   "nbconvert_exporter": "python",
   "pygments_lexer": "ipython3",
   "version": "3.12.3"
  }
 },
 "nbformat": 4,
 "nbformat_minor": 5
}

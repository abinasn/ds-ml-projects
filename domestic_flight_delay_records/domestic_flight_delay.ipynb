{
 "cells": [
  {
   "cell_type": "markdown",
   "id": "20144f74",
   "metadata": {},
   "source": [
    "Import and create the sparksession"
   ]
  },
  {
   "cell_type": "code",
   "execution_count": 10,
   "id": "9a925715",
   "metadata": {},
   "outputs": [],
   "source": [
    "from pyspark.sql import SparkSession\n",
    "from pyspark.sql.functions import col, avg, count, max as spark_max\n",
    "from pyspark.sql.types import DoubleType\n",
    "spark = SparkSession.builder.appName(\"Domestic Flight Delay Record Analysis\").getOrCreate()"
   ]
  },
  {
   "cell_type": "markdown",
   "id": "9f85131a",
   "metadata": {},
   "source": [
    "Loading the csv file from Dataset folder"
   ]
  },
  {
   "cell_type": "code",
   "execution_count": null,
   "id": "8ee85e52",
   "metadata": {},
   "outputs": [
    {
     "name": "stderr",
     "output_type": "stream",
     "text": [
      "                                                                                \r"
     ]
    },
    {
     "name": "stdout",
     "output_type": "stream",
     "text": [
      "root\n",
      " |-- FL_DATE: string (nullable = true)\n",
      " |-- DEP_DELAY: integer (nullable = true)\n",
      " |-- ARR_DELAY: integer (nullable = true)\n",
      " |-- AIR_TIME: integer (nullable = true)\n",
      " |-- DISTANCE: integer (nullable = true)\n",
      " |-- DEP_TIME: double (nullable = true)\n",
      " |-- ARR_TIME: double (nullable = true)\n",
      "\n",
      "+--------+---------+---------+--------+--------+---------+---------+\n",
      "| FL_DATE|DEP_DELAY|ARR_DELAY|AIR_TIME|DISTANCE| DEP_TIME| ARR_TIME|\n",
      "+--------+---------+---------+--------+--------+---------+---------+\n",
      "|1/1/2006|        5|       19|     350|    2475| 9.083333|12.483334|\n",
      "|1/2/2006|      167|      216|     343|    2475|11.783334|15.766666|\n",
      "|1/3/2006|       -7|       -2|     344|    2475| 8.883333|12.133333|\n",
      "|1/4/2006|       -5|      -13|     331|    2475| 8.916667|    11.95|\n",
      "|1/5/2006|       -3|      -17|     321|    2475|     8.95|11.883333|\n",
      "+--------+---------+---------+--------+--------+---------+---------+\n",
      "only showing top 5 rows\n"
     ]
    }
   ],
   "source": [
    "file_path = \"./datasets/flight_dataset.csv\"\n",
    "df = spark.read.csv(file_path, header=True, inferSchema=True)\n",
    "df.printSchema()\n",
    "df.show(5)"
   ]
  },
  {
   "cell_type": "markdown",
   "id": "dd75a0da",
   "metadata": {},
   "source": [
    "#### Task 1\n",
    "Flights That Arrived Earlier Than Expected"
   ]
  },
  {
   "cell_type": "code",
   "execution_count": 7,
   "id": "320777bc",
   "metadata": {},
   "outputs": [
    {
     "name": "stdout",
     "output_type": "stream",
     "text": [
      "534655\n"
     ]
    }
   ],
   "source": [
    "def count_early_arrivals(df):\n",
    "  return df.filter(col(\"ARR_DELAY\") < 0).count()\n",
    "\n",
    "print(count_early_arrivals(df))"
   ]
  },
  {
   "cell_type": "markdown",
   "id": "e949cb55",
   "metadata": {},
   "source": [
    "#### Task 2\n",
    "Typical Departure Time for Flights Over 2000 Miles"
   ]
  },
  {
   "cell_type": "code",
   "execution_count": 6,
   "id": "1b892812",
   "metadata": {},
   "outputs": [
    {
     "name": "stderr",
     "output_type": "stream",
     "text": [
      "[Stage 11:=====>                                                   (1 + 9) / 10]\r"
     ]
    },
    {
     "name": "stdout",
     "output_type": "stream",
     "text": [
      "+--------+-----+\n",
      "|DEP_TIME|count|\n",
      "+--------+-----+\n",
      "|    6.95|  164|\n",
      "+--------+-----+\n",
      "\n"
     ]
    },
    {
     "name": "stderr",
     "output_type": "stream",
     "text": [
      "                                                                                \r"
     ]
    }
   ],
   "source": [
    "def typical_departure_long_flights(df):\n",
    "  return df.filter(col(\"DISTANCE\") > 2000) \\\n",
    "            .groupBy(\"DEP_TIME\") \\\n",
    "            .agg(count(\"*\").alias(\"count\")) \\\n",
    "            .orderBy(col(\"count\").desc()) \\\n",
    "            .limit(1)\n",
    "typical_departure_long_flights(df).show()"
   ]
  },
  {
   "cell_type": "markdown",
   "id": "fe75f9e5",
   "metadata": {},
   "source": [
    "#### Task 3\n",
    "Proportion of Flights with Arrival Delays > 60 Minutes"
   ]
  },
  {
   "cell_type": "code",
   "execution_count": 8,
   "id": "38e4832a",
   "metadata": {},
   "outputs": [
    {
     "name": "stdout",
     "output_type": "stream",
     "text": [
      "0.053066\n"
     ]
    }
   ],
   "source": [
    "\n",
    "def proportion_long_arrival_delays(df):\n",
    "  df_valid = df.filter(col(\"ARR_DELAY\").isNotNull())\n",
    "  total_count = df_valid.count()\n",
    "  delayed_count = df_valid.filter(col(\"ARR_DELAY\") > 60).count()\n",
    "  proportion = (delayed_count / total_count) if total_count > 0 else 0\n",
    "  return proportion\n",
    "\n",
    "print(proportion_long_arrival_delays(df))\n"
   ]
  },
  {
   "cell_type": "markdown",
   "id": "0cfe3eff",
   "metadata": {},
   "source": [
    "#### Task 4\n",
    "Average Airtime Before 9:00 AM"
   ]
  },
  {
   "cell_type": "code",
   "execution_count": 9,
   "id": "a58fb0b6",
   "metadata": {},
   "outputs": [
    {
     "name": "stdout",
     "output_type": "stream",
     "text": [
      "111.36120276990287 minutes\n"
     ]
    }
   ],
   "source": [
    "def avg_airtime_before_9am(df):\n",
    "    return df.filter(\n",
    "        (col(\"DEP_TIME\") < 9.0) &\n",
    "        col(\"DEP_TIME\").isNotNull() &\n",
    "        col(\"AIR_TIME\").isNotNull()\n",
    "    ).agg(avg(\"AIR_TIME\").alias(\"avg_airtime\")).collect()[0][\"avg_airtime\"]\n",
    "\n",
    "print(f\"{avg_airtime_before_9am(df)} minutes\")"
   ]
  },
  {
   "cell_type": "markdown",
   "id": "262ac1fa",
   "metadata": {},
   "source": [
    "#### Task 5\n",
    "Max Arrival Delay With No Departure Delay"
   ]
  },
  {
   "cell_type": "code",
   "execution_count": 12,
   "id": "4f6e3b13",
   "metadata": {},
   "outputs": [
    {
     "name": "stdout",
     "output_type": "stream",
     "text": [
      "232 minutes\n"
     ]
    }
   ],
   "source": [
    "\n",
    "\n",
    "def max_arrival_delay_no_dep_delay(df):\n",
    "    return df.filter(\n",
    "        (col(\"DEP_DELAY\") == 0) &\n",
    "        col(\"ARR_DELAY\").isNotNull()\n",
    "    ).agg(spark_max(\"ARR_DELAY\").alias(\"max_arrival_delay\")).collect()[0][\"max_arrival_delay\"]\n",
    "\n",
    "print(f\"{max_arrival_delay_no_dep_delay(df)} minutes\")"
   ]
  }
 ],
 "metadata": {
  "kernelspec": {
   "display_name": "pyspark",
   "language": "python",
   "name": "python3"
  },
  "language_info": {
   "codemirror_mode": {
    "name": "ipython",
    "version": 3
   },
   "file_extension": ".py",
   "mimetype": "text/x-python",
   "name": "python",
   "nbconvert_exporter": "python",
   "pygments_lexer": "ipython3",
   "version": "3.12.3"
  }
 },
 "nbformat": 4,
 "nbformat_minor": 5
}
